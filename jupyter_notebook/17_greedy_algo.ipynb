{
 "cells": [
  {
   "cell_type": "markdown",
   "metadata": {},
   "source": [
    "### Greedy Algorithm\n",
    "- used to solve optimization problems\n",
    "- find the best (maximum or minimum) solution among all possibilities\n",
    "- work by making the seemingly best choice at each step, similar to someone prioritizing immediate benefits.\n",
    "\n",
    "\n",
    "#### Pros:\n",
    "- Easy to understand and implement.\n",
    "- Efficient in terms of time and space complexity.\n",
    "- Often outperform other approaches like divide-and-conquer in certain situations.\n",
    "\n",
    "\n",
    "#### Cons:\n",
    "- Don't always guarantee the optimal solution globally.\n",
    "- Proving their correctness can be challenging.\n",
    "\n",
    "\n",
    "#### When to Use Them:\n",
    "- suitable when a problem exhibits these two properties:\n",
    "    1. Optimal Substructure: The optimal solution can be constructed by combining optimal solutions to subproblems.\n",
    "    2. Greedy Choice Property: Making locally optimal choices at each step leads to the global optimal solution.\n",
    "\n",
    "\n",
    "#### Real-World Example:\n",
    "- Imagine a hiring process with three stages: online assessment, phone interview, and technical interview. A greedy approach would filter candidates after each stage, keeping only the top performers. This saves time and resources compared to interviewing everyone.\n",
    "\n",
    "\n",
    "#### Limitations:\n",
    "- Consider a binary tree where the goal is to find the path with the highest sum from root to leaf. A greedy approach might prioritize high values at each step, potentially missing the optimal path that includes a much larger value later on.\n",
    "\n",
    "\n",
    "<img src=\"https://res.cloudinary.com/dfeirxlea/image/upload/v1730310497/lec_data_structure/mhdkdy2w3tyjmcjurhny.png\">\n",
    "<img src=\"https://res.cloudinary.com/dfeirxlea/image/upload/v1730310500/lec_data_structure/vnbiopswpb7gwyl1ffsz.png\">\n",
    "<img src=\"https://res.cloudinary.com/dfeirxlea/image/upload/v1730310503/lec_data_structure/sunmxwq5uusr1zmffbhs.png\">\n",
    "\n",
    "<img src=\"https://res.cloudinary.com/dfeirxlea/image/upload/v1730310511/lec_data_structure/kjmwrjevbhsirakufbj0.png\">"
   ]
  },
  {
   "cell_type": "markdown",
   "metadata": {},
   "source": [
    "### Dijkstra's Algorithm\n",
    "- a greedy algo to find the shortest path from a source node to all other nodes in a weighted graph\n",
    "    - (always selecting the edge with the minimum weight to explore next.)\n",
    "- can be seen as a modified version of breadth-first search (BFS):\n",
    "    - explores the graph level by level, prioritizing nodes with the shortest distance from the source node (similar to BFS)\n",
    "- iteratively selects the vertex with the minimum distance from the source node and explores all its neighbor\n",
    "- must work on graphs with non-negative edge weights\n",
    "\n",
    "\n",
    "#### How does it work?\n",
    "1. Initialization:\n",
    "    - Set the distance to the source node as 0.\n",
    "    - Set the distance to all other nodes as infinity.\n",
    "    - Create a min-heap to store nodes and their current shortest distances.\n",
    "\n",
    "2. Iteration:\n",
    "- While the min-heap is not empty:\n",
    "    - Extract the node with the minimum distance from the heap.\n",
    "    - For each neighbor of the extracted node:\n",
    "        - Calculate the tentative distance through the current node.\n",
    "        - If this tentative distance is less than the current assigned value, update the distance in the heap.\n",
    "\n",
    "3. Termination:\n",
    "- Once the heap is empty, the algorithm terminates. The final distances to each node represent the shortest path lengths from the source node.\n",
    "\n",
    "\n",
    "#### Time Complexity:\n",
    "- O((E+V)log V)\n",
    "    - In the worst case, we will visit all V+E vertices and edges. \n",
    "    - In each visit, we may have to update our min-heap which takes log V time: it involves sifting the element up or down the heap to maintain the min-heap property\n",
    "    - the runtime = O((V+E) x log V)\n",
    "\n",
    "    <img src=\"https://res.cloudinary.com/dfeirxlea/image/upload/v1730310507/lec_data_structure/izwt9ybke9kqeteaqfso.png\">\n",
    "\n",
    "\n",
    "#### Real-world Application:\n",
    "- network routing, GPS navigation, and other applications where finding the shortest path is crucial"
   ]
  },
  {
   "cell_type": "code",
   "execution_count": 1,
   "metadata": {},
   "outputs": [
    {
     "name": "stdout",
     "output_type": "stream",
     "text": [
      "The smallest values in the heap in ascending order are:\n",
      "\n",
      "(-5, 'D')\n",
      "(0, 'A')\n",
      "(1, 'B')\n",
      "(2, 'C')\n",
      "(4, 'E')\n"
     ]
    }
   ],
   "source": [
    "import heapq\n",
    "\n",
    "heap = [(0, 'A')]\n",
    "heapq.heappush(heap, (1, 'B'))\n",
    "heapq.heappush(heap, (-5, 'D'))\n",
    "heapq.heappush(heap, (4, 'E'))\n",
    "heapq.heappush(heap, (2, 'C'))\n",
    "\n",
    "print(\"The smallest values in the heap in ascending order are:\\n\")\n",
    "while heap:\n",
    "  print(heapq.heappop(heap))"
   ]
  },
  {
   "cell_type": "code",
   "execution_count": 2,
   "metadata": {},
   "outputs": [
    {
     "name": "stdout",
     "output_type": "stream",
     "text": [
      "\n",
      "\n",
      "Shortest Distances: {'A': 17, 'C': 20, 'D': 0, 'E': 10, 'B': 27}\n"
     ]
    }
   ],
   "source": [
    "from heapq import heappop, heappush\n",
    "from math import inf\n",
    "\n",
    "graph = {\n",
    "    'A': [('B', 10), ('C', 3)],\n",
    "    'C': [('D', 2)],\n",
    "    'D': [('E', 10)],\n",
    "    'E': [('A', 7)],\n",
    "    'B': [('C', 3), ('D', 2)]\n",
    "}\n",
    "\n",
    "\n",
    "def dijkstras(graph, start):\n",
    "  distances = {}\n",
    "  \n",
    "  for vertex in graph:\n",
    "    distances[vertex] = inf\n",
    "    \n",
    "  distances[start] = 0\n",
    "  vertices_to_explore = [(0, start)]\n",
    "  \n",
    "  while vertices_to_explore:\n",
    "    # pop off the vertex with the minimum distance to keep track of the shortest path\n",
    "    current_distance, current_vertex = heappop(vertices_to_explore) \n",
    "    \n",
    "    for neighbor, edge_weight in graph[current_vertex]:\n",
    "      new_distance = current_distance + edge_weight\n",
    "      \n",
    "      if new_distance < distances[neighbor]:\n",
    "        distances[neighbor] = new_distance\n",
    "        heappush(vertices_to_explore, (new_distance, neighbor))\n",
    "        \n",
    "  return distances\n",
    "        \n",
    "distances_from_d = dijkstras(graph, 'D')\n",
    "print(\"\\n\\nShortest Distances: {0}\".format(distances_from_d))"
   ]
  }
 ],
 "metadata": {
  "kernelspec": {
   "display_name": "lec-python-pjQXazfg",
   "language": "python",
   "name": "python3"
  },
  "language_info": {
   "codemirror_mode": {
    "name": "ipython",
    "version": 3
   },
   "file_extension": ".py",
   "mimetype": "text/x-python",
   "name": "python",
   "nbconvert_exporter": "python",
   "pygments_lexer": "ipython3",
   "version": "3.12.2"
  }
 },
 "nbformat": 4,
 "nbformat_minor": 2
}
