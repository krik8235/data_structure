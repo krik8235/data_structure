{
 "cells": [
  {
   "cell_type": "markdown",
   "metadata": {},
   "source": [
    "### Stack\n",
    "- data structure that operates on a Last-In, First-Out (LIFO) principle\n",
    "- Unlike linked lists or arrays, stacks are designed to be accessed in a specific order: Last-In, First-Out (LIFO). This means you can only directly access the top element. There's no efficient way to traverse the elements in the middle or bottom of the stack without first removing the elements on top.\n",
    "\n",
    "\n",
    "#### Key Operations:\n",
    "\n",
    "- Push: Adds an element to the top of the stack.\n",
    "- Pop: Removes and returns the element from python_classes.the top of the stack.\n",
    "- Peek: Returns the element at the top of the stack without removing it.   \n",
    "\n",
    "\n",
    "#### Implementation:   \n",
    "\n",
    "- Stacks can be implemented using either a linked list or an array\n",
    "- A linked list implementation is often preferred for its flexibility in handling dynamic sizing.\n",
    "\n",
    "\n",
    "#### Important Considerations:\n",
    "\n",
    "- Bounded Stacks: Have a fixed size limit.\n",
    "- Stack Overflow: Occurs when trying to push an element onto a full stack.\n",
    "- Stack Underflow: Occurs when trying to pop an element from python_classes.an empty stack\n",
    "\n",
    "\n",
    "<img src=\"https://res.cloudinary.com/dfeirxlea/image/upload/v1730230093/lec_data_structure/qeab92xlshivfbxvph0a.png\" alt=\"stack vs linked list\">"
   ]
  },
  {
   "cell_type": "code",
   "execution_count": 1,
   "metadata": {},
   "outputs": [
    {
     "name": "stdout",
     "output_type": "stream",
     "text": [
      "Adding pizza #1 to the pizza stack!\n",
      "Adding pizza #2 to the pizza stack!\n",
      "Adding pizza #3 to the pizza stack!\n",
      "Adding pizza #4 to the pizza stack!\n",
      "Adding pizza #5 to the pizza stack!\n",
      "Adding pizza #6 to the pizza stack!\n",
      "The first pizza to deliver is pizza #6\n",
      "Delivering pizza #6\n",
      "Delivering pizza #5\n",
      "Delivering pizza #4\n"
     ]
    },
    {
     "data": {
      "text/plain": [
       "'pizza #4'"
      ]
     },
     "execution_count": 1,
     "metadata": {},
     "output_type": "execute_result"
    }
   ],
   "source": [
    "import sys\n",
    "sys.path.insert(0,\"..\")\n",
    "\n",
    "from python_classes.node import Node\n",
    "\n",
    "class Stack:\n",
    "  def __init__(self, limit=1000):\n",
    "    \"\"\"limit serves as a limit for the number of nodes that can be added to the stack at any one time.\"\"\"\n",
    "    self.top_item = None\n",
    "    self.size = 0\n",
    "    self.limit = limit\n",
    "  \n",
    "\n",
    "  def push(self, value):\n",
    "    if self.has_space():\n",
    "      item = Node(value)\n",
    "      item.set_next_node(self.top_item)\n",
    "      self.top_item = item\n",
    "      self.size += 1\n",
    "      print(\"Adding {} to the pizza stack!\".format(value))\n",
    "    else:\n",
    "      print(\"No room for {}!\".format(value))\n",
    "\n",
    "\n",
    "  def pop(self):\n",
    "    if not self.is_empty():\n",
    "      item_to_remove = self.top_item\n",
    "      self.top_item = item_to_remove.get_next_node()\n",
    "      self.size -= 1\n",
    "      print(\"Delivering \" + item_to_remove.get_value())\n",
    "      return item_to_remove.get_value()\n",
    "    \n",
    "    print(\"All out of pizza.\")\n",
    "\n",
    "\n",
    "  def peek(self):\n",
    "    if not self.is_empty():\n",
    "      return self.top_item.get_value()\n",
    "    print(\"Nothing to see here!\")\n",
    "\n",
    "\n",
    "  def has_space(self):\n",
    "    return self.limit > self.size\n",
    "\n",
    "\n",
    "  def is_empty(self):\n",
    "    return self.size == 0\n",
    "  \n",
    "\n",
    "\n",
    "# practice \n",
    "pizza_stack = Stack(6)\n",
    "pizza_stack.push(\"pizza #1\")\n",
    "pizza_stack.push(\"pizza #2\")\n",
    "pizza_stack.push(\"pizza #3\")\n",
    "pizza_stack.push(\"pizza #4\")\n",
    "pizza_stack.push(\"pizza #5\")\n",
    "pizza_stack.push(\"pizza #6\")\n",
    "\n",
    "# pizza_stack.push(\"pizza #7\") # comment out\n",
    "\n",
    "print(\"The first pizza to deliver is \" + pizza_stack.peek())\n",
    "pizza_stack.pop()\n",
    "pizza_stack.pop()\n",
    "pizza_stack.pop()\n",
    "# pizza_stack.pop()\n",
    "# pizza_stack.pop()\n",
    "# pizza_stack.pop()\n",
    "\n",
    "\n",
    "# pizza_stack.pop()"
   ]
  }
 ],
 "metadata": {
  "kernelspec": {
   "display_name": "lec-python-pjQXazfg",
   "language": "python",
   "name": "python3"
  },
  "language_info": {
   "codemirror_mode": {
    "name": "ipython",
    "version": 3
   },
   "file_extension": ".py",
   "mimetype": "text/x-python",
   "name": "python",
   "nbconvert_exporter": "python",
   "pygments_lexer": "ipython3",
   "version": "3.12.2"
  }
 },
 "nbformat": 4,
 "nbformat_minor": 2
}
