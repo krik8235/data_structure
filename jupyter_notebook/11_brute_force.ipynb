{
 "cells": [
  {
   "cell_type": "markdown",
   "metadata": {},
   "source": [
    "### Brute Force Algorithms:\n",
    "\n",
    "- A straightforward approach that tries every possible solution:\n",
    "\n",
    "- Pros: Easy to implement (much more straight-forward logic than that of optimized algo), simple, bug-free\n",
    "- Cons: Slow (need to exhaust all possible options to find the answer.), inefficient for large datasets.\n",
    "\n",
    "\n",
    "- i.e., \n",
    "\n",
    "\n",
    "    1. Flipping through a textbook page by page to find a specific chapter.\n",
    "        <img src=\"https://res.cloudinary.com/dfeirxlea/image/upload/v1730294107/lec_data_structure/afbkywbssywr4uggulbd.png\">\n",
    "\n",
    "\n",
    "\n",
    "    2. looking for a book in the library with 10 bookshelves that consists of 5 rows filled with 20 books\n",
    "\n",
    "        => In the worst-case scenario - we need to go thru all the books in the library:\n",
    "\n",
    "            10 bookshelves * 5 rows/bookshelf * 20 books/row = 1000 books\n",
    "\n",
    "\n",
    "\n",
    "\n",
    "### Linear Search:\n",
    "- A simple search algorithm that checks each element of a list sequentially.\n",
    "\n",
    "- Best-case: O(1) - Target element is the first.\n",
    "\n",
    "    <img src=\"https://res.cloudinary.com/dfeirxlea/image/upload/v1730294170/lec_data_structure/qzamebqwfcqbvxgzxa3s.png\">\n",
    "\n",
    "\n",
    "- Worst-case: O(N) - Target element is the last or not found. => 7 (N) comparison needed \n",
    "\n",
    "    <img src=\"https://res.cloudinary.com/dfeirxlea/image/upload/v1730294169/lec_data_structure/dph60sfcyguqlwzik67x.png\">\n",
    "\n",
    "    <img src=\"https://res.cloudinary.com/dfeirxlea/image/upload/v1730294167/lec_data_structure/qz8qtp1ee62bxg1ahtv9.png\">\n",
    "\n",
    "\n",
    "\n",
    "- Average-case: O(N) - Target element is on average in the middle.\n",
    "\n",
    "    <img src=\"https://res.cloudinary.com/dfeirxlea/image/upload/v1730294275/lec_data_structure/gsim0c8d8utgvmm4whp3.png\">\n",
    "    <img src=\"https://res.cloudinary.com/dfeirxlea/image/upload/v1730294278/lec_data_structure/eop8tbe5hzrf1oxfnmtp.png\">\n",
    "\n",
    "\n",
    "- Example: Searching for a song in a playlist by checking each song one by one.\n",
    "\n",
    "    <img src=\"https://res.cloudinary.com/dfeirxlea/image/upload/v1730294140/lec_data_structure/qqnhaxojbjcumr50og7h.png\">\n"
   ]
  },
  {
   "cell_type": "code",
   "execution_count": 1,
   "metadata": {},
   "outputs": [
    {
     "name": "stdout",
     "output_type": "stream",
     "text": [
      "6\n",
      "100 not in list\n"
     ]
    }
   ],
   "source": [
    "number_list = [ 10, 14, 19, 26, 27, 31, 33, 35, 42, 44]\n",
    "target_number = 33\n",
    "\n",
    "def linear_search(search_list, target_value):\n",
    "  for idx in range(len(search_list)):\n",
    "    if search_list[idx] == target_value:\n",
    "      return idx\n",
    "    \n",
    "  raise ValueError(\"{0} not in list\".format(target_value))\n",
    "\n",
    "\n",
    "try:\n",
    "  result = linear_search(number_list, target_number)\n",
    "  print(result)\n",
    "  linear_search(number_list, 100)\n",
    "\n",
    "except ValueError as error_message:\n",
    "  print(\"{0}\".format(error_message))"
   ]
  },
  {
   "cell_type": "code",
   "execution_count": 2,
   "metadata": {},
   "outputs": [
    {
     "name": "stdout",
     "output_type": "stream",
     "text": [
      "[0, 5]\n"
     ]
    }
   ],
   "source": [
    "# find a value from a key\n",
    "\n",
    "def linear_search(search_list, target_value):\n",
    "  matches = []\n",
    "  for idx in range(len(search_list)):\n",
    "    if search_list[idx] == target_value:\n",
    "      matches.append(idx)\n",
    "  if matches:\n",
    "    return matches\n",
    "  else:\n",
    "    raise ValueError(\"{0} not in list\".format(target_value))\n",
    "\n",
    "\n",
    "locations = [\"New York City\", \"Los Angeles\", \"Bangkok\", \"Istanbul\", \"London\", \"New York City\", \"Toronto\"]\n",
    "target_city = \"New York City\"\n",
    "tour_stops = linear_search(locations, target_city)\n",
    "\n",
    "print(tour_stops)"
   ]
  },
  {
   "cell_type": "code",
   "execution_count": 3,
   "metadata": {},
   "outputs": [
    {
     "name": "stdout",
     "output_type": "stream",
     "text": [
      "3\n"
     ]
    }
   ],
   "source": [
    "# find a maximum value\n",
    "\n",
    "def linear_search(search_list):\n",
    "  maximum_score_index = None\n",
    "  for idx in range(len(search_list)):\n",
    "    if not maximum_score_index or search_list[idx] > search_list[maximum_score_index]:\n",
    "      maximum_score_index = idx\n",
    "  return maximum_score_index\n",
    "\n",
    "\n",
    "test_scores = [88, 93, 75, 100, 80, 67, 71, 92, 90, 83]\n",
    "highest_score = linear_search(test_scores)\n",
    "\n",
    "print(highest_score)"
   ]
  }
 ],
 "metadata": {
  "kernelspec": {
   "display_name": "lec-python-pjQXazfg",
   "language": "python",
   "name": "python3"
  },
  "language_info": {
   "codemirror_mode": {
    "name": "ipython",
    "version": 3
   },
   "file_extension": ".py",
   "mimetype": "text/x-python",
   "name": "python",
   "nbconvert_exporter": "python",
   "pygments_lexer": "ipython3",
   "version": "3.12.2"
  }
 },
 "nbformat": 4,
 "nbformat_minor": 2
}
