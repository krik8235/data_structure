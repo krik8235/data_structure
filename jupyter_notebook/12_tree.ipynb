{
 "cells": [
  {
   "cell_type": "markdown",
   "metadata": {},
   "source": [
    "### Trees\n",
    "- fundamental data structure used to represent hierarchical relationships\n",
    "- consist of nodes connected by edges, forming a tree-like structure\n",
    "\n",
    "<img src=\"https://res.cloudinary.com/dfeirxlea/image/upload/v1730296193/lec_data_structure/tjgdj8pvvhy8jjhipddq.png\">\n",
    "\n",
    "\n",
    "\n",
    "#### Key Terms:\n",
    "\n",
    "- Root: The topmost node of a tree.\n",
    "- Parent Node: A node that has child nodes.\n",
    "- Child Node: A node that is directly below a parent node.\n",
    "- Sibling Nodes: Nodes that share the same parent node.\n",
    "- Leaf Node: A node that has no children.\n",
    "- Level: The depth or height of a node in the tree.\n",
    "\n",
    "\n",
    "#### Properties of Trees:\n",
    "\n",
    "- Each node has at most one parent.\n",
    "- The direction of the relationship is from parent to child.\n",
    "- Trees can be wide, deep, or both.\n",
    "    - wide tree = many child nodes\n",
    "    - leaf node = tree nodes without any references to other child nodes\n",
    "    - sibling node = tree nodes that share parents node\n",
    "- Trees are versatile and used in various applications, such as file systems, organizational charts, and decision trees.\n",
    "\n",
    "<img src=\"https://res.cloudinary.com/dfeirxlea/image/upload/v1730296198/lec_data_structure/turgis5ufy18prycnyup.png\">\n"
   ]
  },
  {
   "cell_type": "code",
   "execution_count": 1,
   "metadata": {},
   "outputs": [
    {
     "name": "stdout",
     "output_type": "stream",
     "text": [
      "MONKEY BUSINESS, LLC.\n",
      "=====================\n",
      "'Monkey Business CEO'\n",
      "--->'VP of Bananas'\n",
      "--->--->'Associate Chimp'\n",
      "--->--->'Chief Bonobo'\n",
      "--->'VP of Lazing Around'\n",
      "--->--->'Produce Manager'\n",
      "--->--->'Tire Swing R & D'\n",
      "\n"
     ]
    }
   ],
   "source": [
    "class TreeNode:\n",
    "  def __init__(self, value):\n",
    "    self.value = value\n",
    "    self.children = []\n",
    "\n",
    "  def __repr__(self, level=0):\n",
    "    # HELPER METHOD TO PRINT TREE!\n",
    "    ret = \"--->\" * level + repr(self.value) + \"\\n\"\n",
    "    for child in self.children:\n",
    "      ret += child.__repr__(level+1)\n",
    "    return ret\n",
    "\n",
    "  def add_child(self, child_node):\n",
    "    self.children.append(child_node) \n",
    "\n",
    "### TEST CODE TO PRINT TREE\n",
    "company = [\n",
    "  \"Monkey Business CEO\", \n",
    "  \"VP of Bananas\", \n",
    "  \"VP of Lazing Around\", \n",
    "  \"Associate Chimp\", \n",
    "  \"Chief Bonobo\", \"Produce Manager\", \"Tire Swing R & D\"]\n",
    "root = TreeNode(company.pop(0))\n",
    "for count in range(2):\n",
    "  child = TreeNode(company.pop(0))\n",
    "  root.add_child(child)\n",
    "\n",
    "root.children[0].add_child(TreeNode(company.pop(0)))\n",
    "root.children[0].add_child(TreeNode(company.pop(0)))\n",
    "root.children[1].add_child(TreeNode(company.pop(0)))\n",
    "root.children[1].add_child(TreeNode(company.pop(0)))\n",
    "print(\"MONKEY BUSINESS, LLC.\")\n",
    "print(\"=====================\")\n",
    "print(root)"
   ]
  },
  {
   "cell_type": "code",
   "execution_count": 2,
   "metadata": {},
   "outputs": [
    {
     "name": "stdout",
     "output_type": "stream",
     "text": [
      "Initializing node...\n"
     ]
    }
   ],
   "source": [
    "class TreeNode:\n",
    "  def __init__(self, value):\n",
    "    print(\"Initializing node...\")\n",
    "    self.value = value\n",
    "    \n",
    "seed = TreeNode(\"Koko\")"
   ]
  },
  {
   "cell_type": "code",
   "execution_count": 3,
   "metadata": {},
   "outputs": [
    {
     "name": "stdout",
     "output_type": "stream",
     "text": [
      "Adding A wee sappling\n",
      "Adding Root Rot!\n",
      "Removing Root Rot! from I am Root\n",
      "I am Root\n",
      "A wee sappling\n"
     ]
    }
   ],
   "source": [
    "# add/prune/traverse children\n",
    "\n",
    "class TreeNode:\n",
    "  def __init__(self, value):\n",
    "    self.value = value\n",
    "    self.children = []\n",
    "\n",
    "\n",
    "  def add_child(self, child_node):\n",
    "    if child_node in self.children: # skip the op when the child nodes has child_node to add\n",
    "      return\n",
    "    \n",
    "    print(\"Adding \" + child_node.value)\n",
    "    self.children.append(child_node)\n",
    "    \n",
    "  \n",
    "  def remove_child(self, child_node):\n",
    "    print(\"Removing \" + child_node.value + \" from \" + self.value)\n",
    "    self.children = [child for child in self.children if child is not child_node]\n",
    "\n",
    "\n",
    "  def traverse(self):\n",
    "    nodes_to_visit = [self]\n",
    "\n",
    "    while len(nodes_to_visit) > 0:\n",
    "      current_node = nodes_to_visit.pop()\n",
    "      print(current_node.value)\n",
    "      nodes_to_visit += current_node.children\n",
    "\n",
    "\n",
    "root = TreeNode(\"I am Root\")\n",
    "child = TreeNode(\"A wee sappling\")\n",
    "bad_seed = TreeNode(\"Root Rot!\")\n",
    "root.add_child(child)\n",
    "root.add_child(bad_seed)\n",
    "root.remove_child(bad_seed)\n",
    "root.traverse()"
   ]
  }
 ],
 "metadata": {
  "kernelspec": {
   "display_name": "lec-python-pjQXazfg",
   "language": "python",
   "name": "python3"
  },
  "language_info": {
   "codemirror_mode": {
    "name": "ipython",
    "version": 3
   },
   "file_extension": ".py",
   "mimetype": "text/x-python",
   "name": "python",
   "nbconvert_exporter": "python",
   "pygments_lexer": "ipython3",
   "version": "3.12.2"
  }
 },
 "nbformat": 4,
 "nbformat_minor": 2
}
